{
 "cells": [
  {
   "cell_type": "code",
   "execution_count": 1,
   "id": "5044bffe",
   "metadata": {},
   "outputs": [],
   "source": [
    "import pandas as pd"
   ]
  },
  {
   "cell_type": "code",
   "execution_count": 2,
   "id": "13b2ed4f",
   "metadata": {},
   "outputs": [
    {
     "data": {
      "text/html": [
       "<div>\n",
       "<style scoped>\n",
       "    .dataframe tbody tr th:only-of-type {\n",
       "        vertical-align: middle;\n",
       "    }\n",
       "\n",
       "    .dataframe tbody tr th {\n",
       "        vertical-align: top;\n",
       "    }\n",
       "\n",
       "    .dataframe thead th {\n",
       "        text-align: right;\n",
       "    }\n",
       "</style>\n",
       "<table border=\"1\" class=\"dataframe\">\n",
       "  <thead>\n",
       "    <tr style=\"text-align: right;\">\n",
       "      <th></th>\n",
       "      <th>comments</th>\n",
       "    </tr>\n",
       "  </thead>\n",
       "  <tbody>\n",
       "    <tr>\n",
       "      <th>0</th>\n",
       "      <td>MY ALL TIME FAVOURITE MOVIES OF SS RAJAMOULI S...</td>\n",
       "    </tr>\n",
       "    <tr>\n",
       "      <th>1</th>\n",
       "      <td>magadheera is number one rank</td>\n",
       "    </tr>\n",
       "    <tr>\n",
       "      <th>2</th>\n",
       "      <td>Any movies but top 1 is simhadri🔥🔥🔥🔥🔥🔥🔥🔥</td>\n",
       "    </tr>\n",
       "    <tr>\n",
       "      <th>3</th>\n",
       "      <td>RRR</td>\n",
       "    </tr>\n",
       "    <tr>\n",
       "      <th>4</th>\n",
       "      <td>BEST MOVIE FOR EVER FOR ME IS BAHUBALI 1 AND 2</td>\n",
       "    </tr>\n",
       "    <tr>\n",
       "      <th>...</th>\n",
       "      <td>...</td>\n",
       "    </tr>\n",
       "    <tr>\n",
       "      <th>21985</th>\n",
       "      <td>Happiest birthday anna 🥰🥰🥰🥰</td>\n",
       "    </tr>\n",
       "    <tr>\n",
       "      <th>21986</th>\n",
       "      <td>Wish you happy birthday mukesh garu💐💐</td>\n",
       "    </tr>\n",
       "    <tr>\n",
       "      <th>21987</th>\n",
       "      <td>Happy b'day</td>\n",
       "    </tr>\n",
       "    <tr>\n",
       "      <th>21988</th>\n",
       "      <td>అబ్బా ఎమి వాక్ 😲👍👌👌🤷 పుట్టినరోజు శుభాకాంక్షలు ...</td>\n",
       "    </tr>\n",
       "    <tr>\n",
       "      <th>21989</th>\n",
       "      <td>జన్మదిన శుభాకాంక్షలు మై రియల్ హీరో రిషి sir ,♥...</td>\n",
       "    </tr>\n",
       "  </tbody>\n",
       "</table>\n",
       "<p>21990 rows × 1 columns</p>\n",
       "</div>"
      ],
      "text/plain": [
       "                                                comments\n",
       "0      MY ALL TIME FAVOURITE MOVIES OF SS RAJAMOULI S...\n",
       "1                          magadheera is number one rank\n",
       "2               Any movies but top 1 is simhadri🔥🔥🔥🔥🔥🔥🔥🔥\n",
       "3                                                    RRR\n",
       "4         BEST MOVIE FOR EVER FOR ME IS BAHUBALI 1 AND 2\n",
       "...                                                  ...\n",
       "21985                        Happiest birthday anna 🥰🥰🥰🥰\n",
       "21986              Wish you happy birthday mukesh garu💐💐\n",
       "21987                                        Happy b'day\n",
       "21988  అబ్బా ఎమి వాక్ 😲👍👌👌🤷 పుట్టినరోజు శుభాకాంక్షలు ...\n",
       "21989  జన్మదిన శుభాకాంక్షలు మై రియల్ హీరో రిషి sir ,♥...\n",
       "\n",
       "[21990 rows x 1 columns]"
      ]
     },
     "execution_count": 2,
     "metadata": {},
     "output_type": "execute_result"
    }
   ],
   "source": [
    "data=pd.read_csv(r\"Entertainment.csv\")\n",
    "data"
   ]
  },
  {
   "cell_type": "code",
   "execution_count": 3,
   "id": "9041ac4f",
   "metadata": {},
   "outputs": [],
   "source": [
    "# lowering the text\n",
    "data['lower']= data['comments'].apply(lambda x: x.lower())"
   ]
  },
  {
   "cell_type": "code",
   "execution_count": 4,
   "id": "5f9e8fb0",
   "metadata": {},
   "outputs": [],
   "source": [
    "import re"
   ]
  },
  {
   "cell_type": "code",
   "execution_count": 5,
   "id": "ad8bcc3c",
   "metadata": {
    "scrolled": true
   },
   "outputs": [],
   "source": [
    "# remove url\n",
    "data['remove_url']=data['lower'].apply(lambda x:re.sub(r'http\\S+', '', x))"
   ]
  },
  {
   "cell_type": "code",
   "execution_count": 6,
   "id": "f5f81534",
   "metadata": {},
   "outputs": [
    {
     "data": {
      "text/plain": [
       "'!\"#$%&\\'()*+,-./:;<=>?@[\\\\]^_`{|}~'"
      ]
     },
     "execution_count": 6,
     "metadata": {},
     "output_type": "execute_result"
    }
   ],
   "source": [
    "import string\n",
    "string.punctuation"
   ]
  },
  {
   "cell_type": "code",
   "execution_count": 7,
   "id": "2881c435",
   "metadata": {},
   "outputs": [],
   "source": [
    "def removeusernames(text):\n",
    "    li=text.split()\n",
    "    new_str=\" \".join(x for x in li if not x.startswith(\"@\"))\n",
    "    return new_str\n",
    "data[\"clean_usernames\"]=data[\"remove_url\"].apply(lambda x: removeusernames(x))"
   ]
  },
  {
   "cell_type": "code",
   "execution_count": 8,
   "id": "4a0f52e0",
   "metadata": {},
   "outputs": [],
   "source": [
    "#defining the function to remove punctuation\n",
    "def remove_punctuation(text):\n",
    "#     punctuationfree=\"\".join([i for i in text if i not in string.punctuation])\n",
    "    special='''!\"#$%&\\'()*+,-./:;<=>?@[\\\\]^_`{|}“‘~1234567890'''\n",
    "    punctuationfree=''\n",
    "    for i in text:\n",
    "        if i not in special:\n",
    "            punctuationfree+=i\n",
    "        else:\n",
    "            punctuationfree+=\" \"\n",
    "    return punctuationfree\n",
    "#storing the puntuation free text\n",
    "data['clean_punc']= data['clean_usernames'].apply(lambda x:remove_punctuation(x))"
   ]
  },
  {
   "cell_type": "code",
   "execution_count": 9,
   "id": "8d4ed8d8",
   "metadata": {},
   "outputs": [
    {
     "name": "stdout",
     "output_type": "stream",
     "text": [
      "Requirement already satisfied: clean-text in c:\\users\\n1704\\appdata\\local\\programs\\python\\python38\\lib\\site-packages (0.6.0)\n",
      "Requirement already satisfied: emoji<2.0.0,>=1.0.0 in c:\\users\\n1704\\appdata\\local\\programs\\python\\python38\\lib\\site-packages (from clean-text) (1.7.0)\n",
      "Requirement already satisfied: ftfy<7.0,>=6.0 in c:\\users\\n1704\\appdata\\local\\programs\\python\\python38\\lib\\site-packages (from clean-text) (6.1.1)\n",
      "Requirement already satisfied: wcwidth>=0.2.5 in c:\\users\\n1704\\appdata\\roaming\\python\\python38\\site-packages (from ftfy<7.0,>=6.0->clean-text) (0.2.5)\n",
      "Note: you may need to restart the kernel to use updated packages.\n"
     ]
    },
    {
     "name": "stderr",
     "output_type": "stream",
     "text": [
      "WARNING: You are using pip version 22.0.4; however, version 22.2.2 is available.\n",
      "You should consider upgrading via the 'c:\\users\\n1704\\appdata\\local\\programs\\python\\python38\\python.exe -m pip install --upgrade pip' command.\n"
     ]
    }
   ],
   "source": [
    "pip install clean-text"
   ]
  },
  {
   "cell_type": "code",
   "execution_count": 10,
   "id": "f508af20",
   "metadata": {},
   "outputs": [
    {
     "name": "stderr",
     "output_type": "stream",
     "text": [
      "Since the GPL-licensed package `unidecode` is not installed, using Python's `unicodedata` package which yields worse results.\n"
     ]
    }
   ],
   "source": [
    "from cleantext import clean\n",
    "data['remove_emoji']=data['clean_punc'].apply(lambda x: clean(x,no_emoji=True))"
   ]
  },
  {
   "cell_type": "code",
   "execution_count": 11,
   "id": "7e3b14da",
   "metadata": {},
   "outputs": [],
   "source": [
    "# remove number rows\n",
    "def detect_num(text):\n",
    "    if text.isnumeric()==False:\n",
    "        return text\n",
    "    else:\n",
    "        return None\n",
    "data[\"remove_num\"]=data[\"remove_emoji\"].apply(lambda x: detect_num(x))\n",
    "data.drop(data[data[\"remove_num\"].isnull()==True].index,inplace=True)"
   ]
  },
  {
   "cell_type": "code",
   "execution_count": 12,
   "id": "9239e209",
   "metadata": {
    "scrolled": true
   },
   "outputs": [],
   "source": [
    "# remove rows with length less than 3\n",
    "def detect_rows(text):\n",
    "    if len(text)<=3:\n",
    "        return None\n",
    "    else:\n",
    "        return text\n",
    "data[\"remove_rows\"]=data[\"remove_num\"].apply(lambda x: detect_rows(x))\n",
    "data.drop(data[data[\"remove_rows\"].isnull()==True].index,inplace=True)"
   ]
  },
  {
   "cell_type": "code",
   "execution_count": 13,
   "id": "27ed8596",
   "metadata": {},
   "outputs": [],
   "source": [
    "data.drop(data[data[\"remove_rows\"].isnull()==True].index,inplace=True)"
   ]
  },
  {
   "cell_type": "code",
   "execution_count": 14,
   "id": "72fe829e",
   "metadata": {
    "scrolled": true
   },
   "outputs": [],
   "source": [
    "# removing numbers from each sentence of the text\n",
    "def removenum(text):\n",
    "    li=text.split()\n",
    "    new_string = ' '.join((x for x in li if not x.isdigit()))\n",
    "    return new_string\n",
    "data[\"remove_numbers\"]=data[\"remove_rows\"].apply(lambda x: removenum(x))"
   ]
  },
  {
   "cell_type": "code",
   "execution_count": 15,
   "id": "71489dc9",
   "metadata": {},
   "outputs": [],
   "source": [
    "import re\n",
    "def remove_all_num(text):\n",
    "    for word in text:\n",
    "        if word.isdigit():\n",
    "            text.replace(word,\"\")\n",
    "    return text\n",
    "data[\"remove_numbers\"]=data[\"remove_numbers\"].apply(lambda x: remove_all_num(x))"
   ]
  },
  {
   "cell_type": "code",
   "execution_count": 16,
   "id": "1d7f0ff2",
   "metadata": {},
   "outputs": [],
   "source": [
    "# # removing words of lesser length\n",
    "# def removewords(text):\n",
    "#     li=text.split()\n",
    "#     new_string=\" \".join((x for x in li if not len(x)<=3))\n",
    "#     return new_string\n",
    "# data[\"remove_words\"]=data[\"remove_numbers\"].apply(lambda x: removewords(x))\n",
    "# data"
   ]
  },
  {
   "cell_type": "code",
   "execution_count": 17,
   "id": "c59186cf",
   "metadata": {},
   "outputs": [],
   "source": [
    "# # deleting single word rows\n",
    "# def delrows(text):\n",
    "#     li=text.split()\n",
    "#     if len(li)<=2:\n",
    "#         return None\n",
    "#     else:\n",
    "#         return text\n",
    "# data[\"del_rows\"]=data2[\"remove_numbers\"].apply(lambda x: delrows(x))\n",
    "# data2.drop(data2[data2[\"del_rows\"].isnull()==True].index,inplace=True)\n",
    "# data2"
   ]
  },
  {
   "cell_type": "code",
   "execution_count": 18,
   "id": "a820d43b",
   "metadata": {},
   "outputs": [],
   "source": [
    "data.sort_values(\"remove_numbers\",ascending=True,inplace=True)"
   ]
  },
  {
   "cell_type": "code",
   "execution_count": 19,
   "id": "cad2ae0b",
   "metadata": {
    "scrolled": false
   },
   "outputs": [],
   "source": [
    "data.drop_duplicates(subset=[\"remove_numbers\"],inplace=True)"
   ]
  },
  {
   "cell_type": "code",
   "execution_count": 20,
   "id": "d5d16a60",
   "metadata": {},
   "outputs": [],
   "source": [
    "\n",
    "# data['remove_numbers'] = data[\"remove_numbers\"].str.replace('\\d+', '')\n",
    "# data\n"
   ]
  },
  {
   "cell_type": "code",
   "execution_count": 21,
   "id": "6bbf6042",
   "metadata": {},
   "outputs": [],
   "source": [
    "def lesslength(text):\n",
    "    li=text.split()\n",
    "    if len(li)<=5:\n",
    "        return None\n",
    "    return text\n",
    "data[\"remove_numbers\"]=data[\"remove_numbers\"].apply(lambda x:lesslength(x))\n",
    "data.dropna(subset=[\"remove_numbers\"],inplace=True)"
   ]
  },
  {
   "cell_type": "code",
   "execution_count": 22,
   "id": "f431049f",
   "metadata": {},
   "outputs": [],
   "source": [
    "# def removewords2(text):\n",
    "#     li=text.split()\n",
    "#     new_string=\" \".join((x for x in li if not len(x)<=3))\n",
    "#     return new_string\n",
    "# data3[\"del_rows\"]=data3[\"del_rows\"].apply(lambda x: removewords2(x))\n",
    "# data3"
   ]
  },
  {
   "cell_type": "code",
   "execution_count": 23,
   "id": "fc7bd2b7",
   "metadata": {},
   "outputs": [],
   "source": [
    "# def delrows2(text):\n",
    "#     li=text.split()\n",
    "#     if len(li)<=3:\n",
    "#         return None\n",
    "#     else:\n",
    "#         return text\n",
    "# data3[\"del_rows\"]=data3[\"del_rows\"].apply(lambda x: delrows2(x))\n",
    "# data3.dropna(subset=[\"del_rows\"],inplace=True)\n",
    "# data3"
   ]
  },
  {
   "cell_type": "code",
   "execution_count": 24,
   "id": "699deb28",
   "metadata": {},
   "outputs": [
    {
     "data": {
      "text/html": [
       "<div>\n",
       "<style scoped>\n",
       "    .dataframe tbody tr th:only-of-type {\n",
       "        vertical-align: middle;\n",
       "    }\n",
       "\n",
       "    .dataframe tbody tr th {\n",
       "        vertical-align: top;\n",
       "    }\n",
       "\n",
       "    .dataframe thead th {\n",
       "        text-align: right;\n",
       "    }\n",
       "</style>\n",
       "<table border=\"1\" class=\"dataframe\">\n",
       "  <thead>\n",
       "    <tr style=\"text-align: right;\">\n",
       "      <th></th>\n",
       "      <th>comments</th>\n",
       "      <th>lower</th>\n",
       "      <th>remove_url</th>\n",
       "      <th>clean_usernames</th>\n",
       "      <th>clean_punc</th>\n",
       "      <th>remove_emoji</th>\n",
       "      <th>remove_num</th>\n",
       "      <th>remove_rows</th>\n",
       "      <th>remove_numbers</th>\n",
       "    </tr>\n",
       "  </thead>\n",
       "  <tbody>\n",
       "    <tr>\n",
       "      <th>6415</th>\n",
       "      <td>A adi to mach ra sami 😇😇😇😇😇😇😇😇🥰😍😌🤣</td>\n",
       "      <td>a adi to mach ra sami 😇😇😇😇😇😇😇😇🥰😍😌🤣</td>\n",
       "      <td>a adi to mach ra sami 😇😇😇😇😇😇😇😇🥰😍😌🤣</td>\n",
       "      <td>a adi to mach ra sami 😇😇😇😇😇😇😇😇🥰😍😌🤣</td>\n",
       "      <td>a adi to mach ra sami 😇😇😇😇😇😇😇😇🥰😍😌🤣</td>\n",
       "      <td>a adi to mach ra sami</td>\n",
       "      <td>a adi to mach ra sami</td>\n",
       "      <td>a adi to mach ra sami</td>\n",
       "      <td>a adi to mach ra sami</td>\n",
       "    </tr>\n",
       "    <tr>\n",
       "      <th>11155</th>\n",
       "      <td>a clg ooh kuda cheppandi raa saamy  vallu</td>\n",
       "      <td>a clg ooh kuda cheppandi raa saamy  vallu</td>\n",
       "      <td>a clg ooh kuda cheppandi raa saamy  vallu</td>\n",
       "      <td>a clg ooh kuda cheppandi raa saamy vallu</td>\n",
       "      <td>a clg ooh kuda cheppandi raa saamy vallu</td>\n",
       "      <td>a clg ooh kuda cheppandi raa saamy vallu</td>\n",
       "      <td>a clg ooh kuda cheppandi raa saamy vallu</td>\n",
       "      <td>a clg ooh kuda cheppandi raa saamy vallu</td>\n",
       "      <td>a clg ooh kuda cheppandi raa saamy vallu</td>\n",
       "    </tr>\n",
       "    <tr>\n",
       "      <th>7545</th>\n",
       "      <td>A college lo aga ma College endhu ledhu abbab😂...</td>\n",
       "      <td>a college lo aga ma college endhu ledhu abbab😂...</td>\n",
       "      <td>a college lo aga ma college endhu ledhu abbab😂...</td>\n",
       "      <td>a college lo aga ma college endhu ledhu abbab😂...</td>\n",
       "      <td>a college lo aga ma college endhu ledhu abbab😂...</td>\n",
       "      <td>a college lo aga ma college endhu ledhu abbab</td>\n",
       "      <td>a college lo aga ma college endhu ledhu abbab</td>\n",
       "      <td>a college lo aga ma college endhu ledhu abbab</td>\n",
       "      <td>a college lo aga ma college endhu ledhu abbab</td>\n",
       "    </tr>\n",
       "    <tr>\n",
       "      <th>1595</th>\n",
       "      <td>A director Shankar laga teyakeru i mean conten...</td>\n",
       "      <td>a director shankar laga teyakeru i mean conten...</td>\n",
       "      <td>a director shankar laga teyakeru i mean conten...</td>\n",
       "      <td>a director shankar laga teyakeru i mean conten...</td>\n",
       "      <td>a director shankar laga teyakeru i mean conten...</td>\n",
       "      <td>a director shankar laga teyakeru i mean conten...</td>\n",
       "      <td>a director shankar laga teyakeru i mean conten...</td>\n",
       "      <td>a director shankar laga teyakeru i mean conten...</td>\n",
       "      <td>a director shankar laga teyakeru i mean conten...</td>\n",
       "    </tr>\n",
       "    <tr>\n",
       "      <th>8341</th>\n",
       "      <td>A gd msg is there from this movie.pls upload f...</td>\n",
       "      <td>a gd msg is there from this movie.pls upload f...</td>\n",
       "      <td>a gd msg is there from this movie.pls upload f...</td>\n",
       "      <td>a gd msg is there from this movie.pls upload f...</td>\n",
       "      <td>a gd msg is there from this movie pls upload f...</td>\n",
       "      <td>a gd msg is there from this movie pls upload f...</td>\n",
       "      <td>a gd msg is there from this movie pls upload f...</td>\n",
       "      <td>a gd msg is there from this movie pls upload f...</td>\n",
       "      <td>a gd msg is there from this movie pls upload f...</td>\n",
       "    </tr>\n",
       "    <tr>\n",
       "      <th>...</th>\n",
       "      <td>...</td>\n",
       "      <td>...</td>\n",
       "      <td>...</td>\n",
       "      <td>...</td>\n",
       "      <td>...</td>\n",
       "      <td>...</td>\n",
       "      <td>...</td>\n",
       "      <td>...</td>\n",
       "      <td>...</td>\n",
       "    </tr>\n",
       "    <tr>\n",
       "      <th>2959</th>\n",
       "      <td>Youtube recommended this movie video now</td>\n",
       "      <td>youtube recommended this movie video now</td>\n",
       "      <td>youtube recommended this movie video now</td>\n",
       "      <td>youtube recommended this movie video now</td>\n",
       "      <td>youtube recommended this movie video now</td>\n",
       "      <td>youtube recommended this movie video now</td>\n",
       "      <td>youtube recommended this movie video now</td>\n",
       "      <td>youtube recommended this movie video now</td>\n",
       "      <td>youtube recommended this movie video now</td>\n",
       "    </tr>\n",
       "    <tr>\n",
       "      <th>20366</th>\n",
       "      <td>Youtube videos ni nammakandi Avi just views ko...</td>\n",
       "      <td>youtube videos ni nammakandi avi just views ko...</td>\n",
       "      <td>youtube videos ni nammakandi avi just views ko...</td>\n",
       "      <td>youtube videos ni nammakandi avi just views ko...</td>\n",
       "      <td>youtube videos ni nammakandi avi just views ko...</td>\n",
       "      <td>youtube videos ni nammakandi avi just views ko...</td>\n",
       "      <td>youtube videos ni nammakandi avi just views ko...</td>\n",
       "      <td>youtube videos ni nammakandi avi just views ko...</td>\n",
       "      <td>youtube videos ni nammakandi avi just views ko...</td>\n",
       "    </tr>\n",
       "    <tr>\n",
       "      <th>19442</th>\n",
       "      <td>10 yrs run cheyataniki Meru am aina serial ni ...</td>\n",
       "      <td>10 yrs run cheyataniki meru am aina serial ni ...</td>\n",
       "      <td>10 yrs run cheyataniki meru am aina serial ni ...</td>\n",
       "      <td>10 yrs run cheyataniki meru am aina serial ni ...</td>\n",
       "      <td>yrs run cheyataniki meru am aina serial ni ...</td>\n",
       "      <td>yrs run cheyataniki meru am aina serial ni pro...</td>\n",
       "      <td>yrs run cheyataniki meru am aina serial ni pro...</td>\n",
       "      <td>yrs run cheyataniki meru am aina serial ni pro...</td>\n",
       "      <td>yrs run cheyataniki meru am aina serial ni pro...</td>\n",
       "    </tr>\n",
       "    <tr>\n",
       "      <th>2973</th>\n",
       "      <td>Yt recommended me after watching your Vikram b...</td>\n",
       "      <td>yt recommended me after watching your vikram b...</td>\n",
       "      <td>yt recommended me after watching your vikram b...</td>\n",
       "      <td>yt recommended me after watching your vikram b...</td>\n",
       "      <td>yt recommended me after watching your vikram b...</td>\n",
       "      <td>yt recommended me after watching your vikram b...</td>\n",
       "      <td>yt recommended me after watching your vikram b...</td>\n",
       "      <td>yt recommended me after watching your vikram b...</td>\n",
       "      <td>yt recommended me after watching your vikram b...</td>\n",
       "    </tr>\n",
       "    <tr>\n",
       "      <th>4082</th>\n",
       "      <td>Zee 5 lo  47 Days The Mystery Unfolds Movie Gu...</td>\n",
       "      <td>zee 5 lo  47 days the mystery unfolds movie gu...</td>\n",
       "      <td>zee 5 lo  47 days the mystery unfolds movie gu...</td>\n",
       "      <td>zee 5 lo 47 days the mystery unfolds movie gur...</td>\n",
       "      <td>zee   lo    days the mystery unfolds movie gur...</td>\n",
       "      <td>zee lo days the mystery unfolds movie gurinchi...</td>\n",
       "      <td>zee lo days the mystery unfolds movie gurinchi...</td>\n",
       "      <td>zee lo days the mystery unfolds movie gurinchi...</td>\n",
       "      <td>zee lo days the mystery unfolds movie gurinchi...</td>\n",
       "    </tr>\n",
       "  </tbody>\n",
       "</table>\n",
       "<p>9538 rows × 9 columns</p>\n",
       "</div>"
      ],
      "text/plain": [
       "                                                comments  \\\n",
       "6415                  A adi to mach ra sami 😇😇😇😇😇😇😇😇🥰😍😌🤣   \n",
       "11155          a clg ooh kuda cheppandi raa saamy  vallu   \n",
       "7545   A college lo aga ma College endhu ledhu abbab😂...   \n",
       "1595   A director Shankar laga teyakeru i mean conten...   \n",
       "8341   A gd msg is there from this movie.pls upload f...   \n",
       "...                                                  ...   \n",
       "2959            Youtube recommended this movie video now   \n",
       "20366  Youtube videos ni nammakandi Avi just views ko...   \n",
       "19442  10 yrs run cheyataniki Meru am aina serial ni ...   \n",
       "2973   Yt recommended me after watching your Vikram b...   \n",
       "4082   Zee 5 lo  47 Days The Mystery Unfolds Movie Gu...   \n",
       "\n",
       "                                                   lower  \\\n",
       "6415                  a adi to mach ra sami 😇😇😇😇😇😇😇😇🥰😍😌🤣   \n",
       "11155          a clg ooh kuda cheppandi raa saamy  vallu   \n",
       "7545   a college lo aga ma college endhu ledhu abbab😂...   \n",
       "1595   a director shankar laga teyakeru i mean conten...   \n",
       "8341   a gd msg is there from this movie.pls upload f...   \n",
       "...                                                  ...   \n",
       "2959            youtube recommended this movie video now   \n",
       "20366  youtube videos ni nammakandi avi just views ko...   \n",
       "19442  10 yrs run cheyataniki meru am aina serial ni ...   \n",
       "2973   yt recommended me after watching your vikram b...   \n",
       "4082   zee 5 lo  47 days the mystery unfolds movie gu...   \n",
       "\n",
       "                                              remove_url  \\\n",
       "6415                  a adi to mach ra sami 😇😇😇😇😇😇😇😇🥰😍😌🤣   \n",
       "11155          a clg ooh kuda cheppandi raa saamy  vallu   \n",
       "7545   a college lo aga ma college endhu ledhu abbab😂...   \n",
       "1595   a director shankar laga teyakeru i mean conten...   \n",
       "8341   a gd msg is there from this movie.pls upload f...   \n",
       "...                                                  ...   \n",
       "2959            youtube recommended this movie video now   \n",
       "20366  youtube videos ni nammakandi avi just views ko...   \n",
       "19442  10 yrs run cheyataniki meru am aina serial ni ...   \n",
       "2973   yt recommended me after watching your vikram b...   \n",
       "4082   zee 5 lo  47 days the mystery unfolds movie gu...   \n",
       "\n",
       "                                         clean_usernames  \\\n",
       "6415                  a adi to mach ra sami 😇😇😇😇😇😇😇😇🥰😍😌🤣   \n",
       "11155           a clg ooh kuda cheppandi raa saamy vallu   \n",
       "7545   a college lo aga ma college endhu ledhu abbab😂...   \n",
       "1595   a director shankar laga teyakeru i mean conten...   \n",
       "8341   a gd msg is there from this movie.pls upload f...   \n",
       "...                                                  ...   \n",
       "2959            youtube recommended this movie video now   \n",
       "20366  youtube videos ni nammakandi avi just views ko...   \n",
       "19442  10 yrs run cheyataniki meru am aina serial ni ...   \n",
       "2973   yt recommended me after watching your vikram b...   \n",
       "4082   zee 5 lo 47 days the mystery unfolds movie gur...   \n",
       "\n",
       "                                              clean_punc  \\\n",
       "6415                  a adi to mach ra sami 😇😇😇😇😇😇😇😇🥰😍😌🤣   \n",
       "11155           a clg ooh kuda cheppandi raa saamy vallu   \n",
       "7545   a college lo aga ma college endhu ledhu abbab😂...   \n",
       "1595   a director shankar laga teyakeru i mean conten...   \n",
       "8341   a gd msg is there from this movie pls upload f...   \n",
       "...                                                  ...   \n",
       "2959            youtube recommended this movie video now   \n",
       "20366  youtube videos ni nammakandi avi just views ko...   \n",
       "19442     yrs run cheyataniki meru am aina serial ni ...   \n",
       "2973   yt recommended me after watching your vikram b...   \n",
       "4082   zee   lo    days the mystery unfolds movie gur...   \n",
       "\n",
       "                                            remove_emoji  \\\n",
       "6415                               a adi to mach ra sami   \n",
       "11155           a clg ooh kuda cheppandi raa saamy vallu   \n",
       "7545       a college lo aga ma college endhu ledhu abbab   \n",
       "1595   a director shankar laga teyakeru i mean conten...   \n",
       "8341   a gd msg is there from this movie pls upload f...   \n",
       "...                                                  ...   \n",
       "2959            youtube recommended this movie video now   \n",
       "20366  youtube videos ni nammakandi avi just views ko...   \n",
       "19442  yrs run cheyataniki meru am aina serial ni pro...   \n",
       "2973   yt recommended me after watching your vikram b...   \n",
       "4082   zee lo days the mystery unfolds movie gurinchi...   \n",
       "\n",
       "                                              remove_num  \\\n",
       "6415                               a adi to mach ra sami   \n",
       "11155           a clg ooh kuda cheppandi raa saamy vallu   \n",
       "7545       a college lo aga ma college endhu ledhu abbab   \n",
       "1595   a director shankar laga teyakeru i mean conten...   \n",
       "8341   a gd msg is there from this movie pls upload f...   \n",
       "...                                                  ...   \n",
       "2959            youtube recommended this movie video now   \n",
       "20366  youtube videos ni nammakandi avi just views ko...   \n",
       "19442  yrs run cheyataniki meru am aina serial ni pro...   \n",
       "2973   yt recommended me after watching your vikram b...   \n",
       "4082   zee lo days the mystery unfolds movie gurinchi...   \n",
       "\n",
       "                                             remove_rows  \\\n",
       "6415                               a adi to mach ra sami   \n",
       "11155           a clg ooh kuda cheppandi raa saamy vallu   \n",
       "7545       a college lo aga ma college endhu ledhu abbab   \n",
       "1595   a director shankar laga teyakeru i mean conten...   \n",
       "8341   a gd msg is there from this movie pls upload f...   \n",
       "...                                                  ...   \n",
       "2959            youtube recommended this movie video now   \n",
       "20366  youtube videos ni nammakandi avi just views ko...   \n",
       "19442  yrs run cheyataniki meru am aina serial ni pro...   \n",
       "2973   yt recommended me after watching your vikram b...   \n",
       "4082   zee lo days the mystery unfolds movie gurinchi...   \n",
       "\n",
       "                                          remove_numbers  \n",
       "6415                               a adi to mach ra sami  \n",
       "11155           a clg ooh kuda cheppandi raa saamy vallu  \n",
       "7545       a college lo aga ma college endhu ledhu abbab  \n",
       "1595   a director shankar laga teyakeru i mean conten...  \n",
       "8341   a gd msg is there from this movie pls upload f...  \n",
       "...                                                  ...  \n",
       "2959            youtube recommended this movie video now  \n",
       "20366  youtube videos ni nammakandi avi just views ko...  \n",
       "19442  yrs run cheyataniki meru am aina serial ni pro...  \n",
       "2973   yt recommended me after watching your vikram b...  \n",
       "4082   zee lo days the mystery unfolds movie gurinchi...  \n",
       "\n",
       "[9538 rows x 9 columns]"
      ]
     },
     "execution_count": 24,
     "metadata": {},
     "output_type": "execute_result"
    }
   ],
   "source": [
    "data['remove_numbers'].to_csv(r\"Entertainment_cleaned.csv\")\n",
    "data"
   ]
  }
 ],
 "metadata": {
  "kernelspec": {
   "display_name": "Python 3",
   "language": "python",
   "name": "python3"
  },
  "language_info": {
   "codemirror_mode": {
    "name": "ipython",
    "version": 3
   },
   "file_extension": ".py",
   "mimetype": "text/x-python",
   "name": "python",
   "nbconvert_exporter": "python",
   "pygments_lexer": "ipython3",
   "version": "3.8.7"
  }
 },
 "nbformat": 4,
 "nbformat_minor": 5
}
